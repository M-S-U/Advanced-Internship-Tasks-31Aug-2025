{
  "nbformat": 4,
  "nbformat_minor": 0,
  "metadata": {
    "colab": {
      "provenance": []
    },
    "kernelspec": {
      "name": "python3",
      "display_name": "Python 3"
    },
    "language_info": {
      "name": "python"
    }
  },
  "cells": [
    {
      "cell_type": "markdown",
      "source": [
        "**Multimodal ML – Housing Price Prediction Using Images+ Tabular Data  **\n"
      ],
      "metadata": {
        "id": "74zyL9QoCr4K"
      }
    },
    {
      "cell_type": "code",
      "execution_count": 1,
      "metadata": {
        "id": "e4oXM7TTCqxm"
      },
      "outputs": [],
      "source": [
        "import numpy as np\n",
        "import torch\n",
        "import torch.nn as nn\n",
        "import torch.optim as optim\n",
        "from torch.utils.data import Dataset, DataLoader"
      ]
    },
    {
      "cell_type": "code",
      "source": [
        "np.random.seed(42)\n",
        "torch.manual_seed(42)"
      ],
      "metadata": {
        "colab": {
          "base_uri": "https://localhost:8080/"
        },
        "id": "pgINX25wEnjT",
        "outputId": "978ed1c6-b070-4311-be27-238f87059218"
      },
      "execution_count": 2,
      "outputs": [
        {
          "output_type": "execute_result",
          "data": {
            "text/plain": [
              "<torch._C.Generator at 0x7fdf21ee3d90>"
            ]
          },
          "metadata": {},
          "execution_count": 2
        }
      ]
    },
    {
      "cell_type": "code",
      "source": [
        "n_samples = 2000\n",
        "n_tabular_features = 8\n",
        "image_size = 32\n",
        "n_channels = 3\n",
        "tabular_data = np.random.rand(n_samples, n_tabular_features)"
      ],
      "metadata": {
        "id": "yqUQpRbdEqsM"
      },
      "execution_count": 3,
      "outputs": []
    },
    {
      "cell_type": "code",
      "source": [
        "# Prices as linear combo + noise\n",
        "coefficients = np.random.rand(n_tabular_features)\n",
        "prices = np.dot(tabular_data, coefficients) + np.random.normal(0, 1, n_samples)\n",
        "images = np.random.rand(n_samples, n_channels, image_size, image_size).astype(np.float32)"
      ],
      "metadata": {
        "id": "U5NkiyVuEvmM"
      },
      "execution_count": 4,
      "outputs": []
    },
    {
      "cell_type": "code",
      "source": [
        "# Standardize tabular\n",
        "mean = np.mean(tabular_data, axis=0)\n",
        "std = np.std(tabular_data, axis=0)\n",
        "tabular_data = (tabular_data - mean) / std"
      ],
      "metadata": {
        "id": "92XihjyEE1Sv"
      },
      "execution_count": 5,
      "outputs": []
    },
    {
      "cell_type": "code",
      "source": [
        "# Split\n",
        "indices = np.arange(n_samples)\n",
        "np.random.shuffle(indices)\n",
        "split = int(0.8 * n_samples)\n",
        "train_idx = indices[:split]\n",
        "test_idx = indices[split:]\n",
        "X_tab_train = tabular_data[train_idx]\n",
        "X_tab_test = tabular_data[test_idx]\n",
        "X_img_train = images[train_idx]\n",
        "X_img_test = images[test_idx]\n",
        "y_train = prices[train_idx]\n",
        "y_test = prices[test_idx]"
      ],
      "metadata": {
        "id": "zGfTg-pkE47r"
      },
      "execution_count": 6,
      "outputs": []
    },
    {
      "cell_type": "code",
      "source": [
        "# Dataset\n",
        "class HousingDataset(Dataset):\n",
        "    def __init__(self, tabular, images, prices=None):\n",
        "        self.tabular = torch.tensor(tabular, dtype=torch.float32)\n",
        "        self.images = torch.tensor(images, dtype=torch.float32)\n",
        "        self.prices = torch.tensor(prices, dtype=torch.float32) if prices is not None else None\n",
        "\n",
        "    def __len__(self):\n",
        "        return len(self.tabular)\n",
        "\n",
        "    def __getitem__(self, idx):\n",
        "        if self.prices is not None:\n",
        "            return self.tabular[idx], self.images[idx], self.prices[idx]\n",
        "        return self.tabular[idx], self.images[idx]"
      ],
      "metadata": {
        "id": "4AseiJ7lE8bM"
      },
      "execution_count": 7,
      "outputs": []
    },
    {
      "cell_type": "code",
      "source": [
        "train_ds = HousingDataset(X_tab_train, X_img_train, y_train)\n",
        "test_ds = HousingDataset(X_tab_test, X_img_test, y_test)\n",
        "train_loader = DataLoader(train_ds, batch_size=32, shuffle=True)\n",
        "test_loader = DataLoader(test_ds, batch_size=32)"
      ],
      "metadata": {
        "id": "0t8VqxP8E_2S"
      },
      "execution_count": 8,
      "outputs": []
    },
    {
      "cell_type": "code",
      "source": [
        "# CNN for feature extraction\n",
        "class CNNFeatureExtractor(nn.Module):\n",
        "    def __init__(self):\n",
        "        super().__init__()\n",
        "        self.conv1 = nn.Conv2d(3, 16, kernel_size=3, padding=1)\n",
        "        self.pool = nn.MaxPool2d(2, 2)\n",
        "        self.conv2 = nn.Conv2d(16, 32, kernel_size=3, padding=1)\n",
        "        self.fc = nn.Linear(32 * 8 * 8, 128)  # After two pools, 32/4=8\n",
        "\n",
        "    def forward(self, x):\n",
        "        x = self.pool(torch.relu(self.conv1(x)))\n",
        "        x = self.pool(torch.relu(self.conv2(x)))\n",
        "        x = x.view(-1, 32 * 8 * 8)\n",
        "        x = torch.relu(self.fc(x))\n",
        "        return x"
      ],
      "metadata": {
        "id": "MDs4KtbhFDPj"
      },
      "execution_count": 9,
      "outputs": []
    },
    {
      "cell_type": "code",
      "source": [
        "# Multimodal model\n",
        "class MultimodalModel(nn.Module):\n",
        "    def __init__(self, tabular_input_size, image_feature_size):\n",
        "        super().__init__()\n",
        "        self.cnn = CNNFeatureExtractor()\n",
        "        self.tabular_fc = nn.Linear(tabular_input_size, 64)\n",
        "        self.combined_fc1 = nn.Linear(64 + 128, 128)\n",
        "        self.combined_fc2 = nn.Linear(128, 1)\n",
        "\n",
        "    def forward(self, tabular, images):\n",
        "        img_features = self.cnn(images)\n",
        "        tab_features = torch.relu(self.tabular_fc(tabular))\n",
        "        combined = torch.cat((tab_features, img_features), dim=1)\n",
        "        x = torch.relu(self.combined_fc1(combined))\n",
        "        x = self.combined_fc2(x)\n",
        "        return x.squeeze()\n",
        "\n",
        "model = MultimodalModel(n_tabular_features, 128)\n",
        "optimizer = optim.Adam(model.parameters(), lr=0.001)\n",
        "criterion = nn.MSELoss()"
      ],
      "metadata": {
        "id": "x1Tpxs04FG_-"
      },
      "execution_count": 10,
      "outputs": []
    },
    {
      "cell_type": "code",
      "source": [
        "# Train\n",
        "epochs = 10\n",
        "for epoch in range(epochs):\n",
        "    model.train()\n",
        "    for tab, img, price in train_loader:\n",
        "        optimizer.zero_grad()\n",
        "        pred = model(tab, img)\n",
        "        loss = criterion(pred, price)\n",
        "        loss.backward()\n",
        "        optimizer.step()"
      ],
      "metadata": {
        "id": "qVGo98q_FcAO"
      },
      "execution_count": 12,
      "outputs": []
    },
    {
      "cell_type": "code",
      "source": [
        "# Evaluate\n",
        "model.eval()\n",
        "preds = []\n",
        "true = []\n",
        "with torch.no_grad():\n",
        "    for tab, img, price in test_loader:\n",
        "        pred = model(tab, img)\n",
        "        preds.extend(pred.numpy())\n",
        "        true.extend(price.numpy())"
      ],
      "metadata": {
        "id": "MVs7MQTnFeao"
      },
      "execution_count": 13,
      "outputs": []
    },
    {
      "cell_type": "code",
      "source": [
        "preds = np.array(preds)\n",
        "true = np.array(true)"
      ],
      "metadata": {
        "id": "47gWqDIoFs9g"
      },
      "execution_count": 14,
      "outputs": []
    },
    {
      "cell_type": "code",
      "source": [
        "mae = np.mean(np.abs(true - preds))\n",
        "rmse = np.sqrt(np.mean((true - preds)**2))\n",
        "print(f\"MAE: {mae:.3f}\")\n",
        "print(f\"RMSE: {rmse:.3f}\")"
      ],
      "metadata": {
        "colab": {
          "base_uri": "https://localhost:8080/"
        },
        "id": "QsvVDLUoFxIw",
        "outputId": "99a63616-51a7-4f78-a02e-071ea6cfd56b"
      },
      "execution_count": 15,
      "outputs": [
        {
          "output_type": "stream",
          "name": "stdout",
          "text": [
            "MAE: 1.023\n",
            "RMSE: 1.258\n"
          ]
        }
      ]
    }
  ]
}